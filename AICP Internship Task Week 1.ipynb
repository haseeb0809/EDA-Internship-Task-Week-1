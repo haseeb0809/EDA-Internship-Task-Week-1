{
 "cells": [
  {
   "cell_type": "code",
   "execution_count": 64,
   "metadata": {},
   "outputs": [],
   "source": [
    "import numpy as np \n",
    "import pandas as pd"
   ]
  },
  {
   "cell_type": "markdown",
   "metadata": {},
   "source": [
    "Write a NumPy program to create an array of all even integers from 30 to 70"
   ]
  },
  {
   "cell_type": "code",
   "execution_count": 65,
   "metadata": {},
   "outputs": [
    {
     "name": "stdout",
     "output_type": "stream",
     "text": [
      "\n",
      "Array of all even integers from 30 to 70: [30 32 34 36 38 40 42 44 46 48 50 52 54 56 58 60 62 64 66 68]\n"
     ]
    }
   ],
   "source": [
    "## Create an array of all integers from 30 to 70 using np.arange()\n",
    "x=np.arange(30,70,2)\n",
    "#np.arange(30, 71, 2) creates an array of integers starting from 30 up to 70 (exclusive) with a step of 2, ensuring that only even integers are included.\n",
    "print(\"\\nArray of all even integers from 30 to 70:\",x)\n"
   ]
  },
  {
   "cell_type": "markdown",
   "metadata": {},
   "source": [
    "Write a NumPy program to generate an array of 15 random numbers from a standard normal\n",
    "distribution."
   ]
  },
  {
   "cell_type": "code",
   "execution_count": 66,
   "metadata": {},
   "outputs": [
    {
     "name": "stdout",
     "output_type": "stream",
     "text": [
      "Array of 15 random numbers from a standard normal distribution:\n",
      "[-0.09790191  0.07131434  1.4450476  -0.21249158 -1.32653052 -0.16602895\n",
      "  0.97431251  1.13225543  0.92791218 -0.39332269  0.36294108  0.28122824\n",
      "  0.40208937 -0.49366869 -0.19671776]\n"
     ]
    }
   ],
   "source": [
    "#np.random.randn() is a NumPy function call that generates an array of random numbers from a standard normal distribution.\n",
    "random_numbers = np.random.randn(15)\n",
    "#np.random: This is NumPy's submodule for generating random numbers.\n",
    "#randn: This is a specific function within the np.random submodule that generates random numbers from a normal (Gaussian) distribution with mean 0 and standard deviation 1.\n",
    "\n",
    "print(\"Array of 15 random numbers from a standard normal distribution:\")\n",
    "print(random_numbers)\n"
   ]
  },
  {
   "cell_type": "markdown",
   "metadata": {},
   "source": [
    "How to compute the cross-product of two matrices in NumPy?"
   ]
  },
  {
   "cell_type": "code",
   "execution_count": 67,
   "metadata": {},
   "outputs": [
    {
     "name": "stdout",
     "output_type": "stream",
     "text": [
      "Matrix A:\n",
      "[[1 2 3]\n",
      " [4 5 6]\n",
      " [7 8 9]]\n",
      "\n",
      "Matrix B:\n",
      "[[9 8 7]\n",
      " [6 5 4]\n",
      " [3 2 1]]\n",
      "\n",
      "Cross Product Matrix:\n",
      "[[-10  20 -10]\n",
      " [-10  20 -10]\n",
      " [-10  20 -10]]\n"
     ]
    }
   ],
   "source": [
    "import numpy as np\n",
    "\n",
    "# Define two matrices\n",
    "matrix_A = np.array([[1, 2, 3],\n",
    "                    [4, 5, 6],\n",
    "                    [7, 8, 9]])\n",
    "\n",
    "matrix_B = np.array([[9, 8, 7],\n",
    "                    [6, 5, 4],\n",
    "                    [3, 2, 1]])\n",
    "\n",
    "# Compute the cross product element-wise along axis 1\n",
    "result_matrix = np.cross(matrix_A, matrix_B, axisa=1, axisb=1)\n",
    "\n",
    "print(\"Matrix A:\")\n",
    "print(matrix_A)\n",
    "print(\"\\nMatrix B:\")\n",
    "print(matrix_B)\n",
    "print(\"\\nCross Product Matrix:\")\n",
    "print(result_matrix)\n"
   ]
  },
  {
   "cell_type": "markdown",
   "metadata": {},
   "source": [
    "How to compute the determinant of an array using NumPy?\n"
   ]
  },
  {
   "cell_type": "code",
   "execution_count": 91,
   "metadata": {},
   "outputs": [
    {
     "name": "stdout",
     "output_type": "stream",
     "text": [
      "[[1 2]\n",
      " [3 4]]\n",
      "\n",
      "Determinent:\n"
     ]
    },
    {
     "data": {
      "text/plain": [
       "-2.0000000000000004"
      ]
     },
     "execution_count": 91,
     "metadata": {},
     "output_type": "execute_result"
    }
   ],
   "source": [
    "# we can find the determinent of an array or matrix using numpy with help of determinent function from the linear algebra module. for \n",
    "#numpy.linalg.det(a)\n",
    "a=np.array([[1,2],[3,4]])\n",
    "print(a)\n",
    "print(\"\\nDeterminent:\")\n",
    "np.linalg.det(a)\n",
    "\n"
   ]
  },
  {
   "cell_type": "markdown",
   "metadata": {},
   "source": [
    "How to create a 3x3x3 array with random values using NumPy?\n"
   ]
  },
  {
   "cell_type": "code",
   "execution_count": null,
   "metadata": {},
   "outputs": [
    {
     "name": "stdout",
     "output_type": "stream",
     "text": [
      "[[[0.4087753  0.65921872 0.23892331]\n",
      "  [0.92075033 0.69692385 0.30104195]\n",
      "  [0.399832   0.41282186 0.79669173]]\n",
      "\n",
      " [[0.46510833 0.80604158 0.19460805]\n",
      "  [0.11154422 0.43259292 0.00245272]\n",
      "  [0.76202658 0.17417459 0.73936029]]\n",
      "\n",
      " [[0.00958826 0.55324843 0.36428675]\n",
      "  [0.62935892 0.73736813 0.60037941]\n",
      "  [0.67934377 0.15181827 0.9535069 ]]]\n",
      "[[[ 4  7  7]\n",
      "  [12  9 12]\n",
      "  [15 19 12]]\n",
      "\n",
      " [[ 1 19  7]\n",
      "  [ 5  8 19]\n",
      "  [ 2  9  4]]\n",
      "\n",
      " [[15  3  7]\n",
      "  [19  5 13]\n",
      "  [ 9 11  3]]]\n"
     ]
    }
   ],
   "source": [
    "#This will create a 3x3x3 array filled with random values between 0 and 1. \n",
    "y=np.random.random((3,3,3))\n",
    "print(y)\n",
    "#if we want to genrate random integers we also give them size\n",
    "x=np.random.randint(0,20,size=(3,3,3))\n",
    "print(x)"
   ]
  },
  {
   "cell_type": "markdown",
   "metadata": {},
   "source": []
  },
  {
   "cell_type": "code",
   "execution_count": null,
   "metadata": {},
   "outputs": [
    {
     "name": "stdout",
     "output_type": "stream",
     "text": [
      "Array:=\n",
      "[[0.44075208 0.98323512 0.03315269 0.9975409  0.59273351]\n",
      " [0.81218906 0.94612702 0.88475602 0.64023046 0.8720705 ]\n",
      " [0.83960197 0.30642327 0.13922431 0.20901449 0.56689168]\n",
      " [0.34378182 0.72588575 0.25956017 0.70832352 0.34679533]\n",
      " [0.86787775 0.15499276 0.97285065 0.02289568 0.25682244]]\n"
     ]
    },
    {
     "data": {
      "text/plain": [
       "0.022895679927803392"
      ]
     },
     "execution_count": 23,
     "metadata": {},
     "output_type": "execute_result"
    }
   ],
   "source": [
    "# Create a 5x5 array with random values\n",
    "arr_5x5=np.random.rand(5,5)\n",
    "print(\"Array:\")\n",
    "print(arr_5x5)\n",
    "# Find the minimum and maximum values in the array\n",
    "arr_5x5.max()\n",
    "arr_5x5.min()"
   ]
  },
  {
   "cell_type": "markdown",
   "metadata": {},
   "source": [
    "How to compute the mean, standard deviation, and variance of a given array along the second axis in\n",
    "NumPy?"
   ]
  },
  {
   "cell_type": "code",
   "execution_count": null,
   "metadata": {},
   "outputs": [
    {
     "name": "stdout",
     "output_type": "stream",
     "text": [
      "\n",
      "Array: [[1 2 3]\n",
      " [4 5 6]]\n",
      "\n",
      "Mean along the second axis: [2. 5.]\n"
     ]
    }
   ],
   "source": [
    "# Create a simple array\n",
    "Array=np.array([[1,2,3],[4,5,6]])\n",
    "print(\"\\nArray:\",Array)\n",
    "# Calculating mean of given array using np.mean() function along with 2nd axis\n",
    "mean=np.mean(Array,axis=1)\n",
    "print(\"\\nMean along the second axis:\",mean)"
   ]
  },
  {
   "cell_type": "code",
   "execution_count": null,
   "metadata": {},
   "outputs": [
    {
     "name": "stdout",
     "output_type": "stream",
     "text": [
      "Std_dev: [0.81649658 0.81649658]\n"
     ]
    }
   ],
   "source": [
    "#Compute the standard deviation along the second axis using np.std()Function\n",
    "std_dev = np.std(Array, axis=1)\n",
    "print(\"Std_dev:\",std_dev)"
   ]
  },
  {
   "cell_type": "code",
   "execution_count": null,
   "metadata": {},
   "outputs": [
    {
     "name": "stdout",
     "output_type": "stream",
     "text": [
      "variance: [0.66666667 0.66666667]\n"
     ]
    }
   ],
   "source": [
    "#Compute variance  along the second axis using np.std()Function\n",
    "variance = np.var(Array, axis=1)\n",
    "print(\"variance:\",variance)"
   ]
  },
  {
   "cell_type": "code",
   "execution_count": null,
   "metadata": {},
   "outputs": [],
   "source": []
  }
 ],
 "metadata": {
  "kernelspec": {
   "display_name": "Python 3",
   "language": "python",
   "name": "python3"
  },
  "language_info": {
   "codemirror_mode": {
    "name": "ipython",
    "version": 3
   },
   "file_extension": ".py",
   "mimetype": "text/x-python",
   "name": "python",
   "nbconvert_exporter": "python",
   "pygments_lexer": "ipython3",
   "version": "3.12.1"
  }
 },
 "nbformat": 4,
 "nbformat_minor": 2
}
